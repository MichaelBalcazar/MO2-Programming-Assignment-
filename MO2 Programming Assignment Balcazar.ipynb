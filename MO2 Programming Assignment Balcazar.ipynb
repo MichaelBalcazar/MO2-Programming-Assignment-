{
 "cells": [
  {
   "cell_type": "markdown",
   "id": "9fac68cb-a1a5-4744-8a90-24b43810c0dc",
   "metadata": {},
   "source": [
    "4.1 Choose a number between 1 and 10 and assign it to the variable secret. Then, select another number between 1 and 10 and assign it to the variable guess. Next, write the conditional tests (if, else, and elif) to print the string 'too low' if guess is less than secret, 'too high' if greater than secret, and 'just right' if equal to secret."
   ]
  },
  {
   "cell_type": "code",
   "execution_count": null,
   "id": "bbebda4a-9de3-43bc-b244-2fae81356790",
   "metadata": {},
   "outputs": [],
   "source": [
    "# Assign a number between 1 and 10 to the variable 'secret'\n",
    "secret = 7  # You can choose any number between 1 and 10\n",
    "\n",
    "# Assign another number between 1 and 10 to the variable 'guess'\n",
    "guess = 4  # You can choose any number between 1 and 10\n",
    "\n",
    "# Conditional tests to determine if 'guess' is too low, too high, or just right\n",
    "if guess < secret:\n",
    "    print('too low')\n",
    "elif guess > secret:\n",
    "    print('too high')\n",
    "else:  # This executes if guess == secret\n",
    "    print('just right')\n"
   ]
  },
  {
   "cell_type": "markdown",
   "id": "b826468a-614e-4843-ba5e-f693a2b352f6",
   "metadata": {},
   "source": [
    "4.2 Assign True or False to the variables small and green. Write some if/else statements to print which of these matches those choices: cherry, pea, watermelon, pumpkin."
   ]
  },
  {
   "cell_type": "code",
   "execution_count": null,
   "id": "87b845ef-45cc-4646-a561-90b6122efd7a",
   "metadata": {},
   "outputs": [],
   "source": [
    "# Assign True or False to variables 'small' and 'green'\n",
    "small = True\n",
    "green = False\n",
    "\n",
    "# Conditional statements to determine which items match the characteristics\n",
    "if small and green:\n",
    "    print(\"pea\")\n",
    "elif small and not green:\n",
    "    print(\"cherry\")\n",
    "elif not small and green:\n",
    "    print(\"Watermelon\")\n",
    "else:\n",
    "    print(\"pumpkin\")\n"
   ]
  },
  {
   "cell_type": "markdown",
   "id": "09c2f832-dabd-4e0b-a727-d3667eff6eb2",
   "metadata": {},
   "source": [
    "6.1 Use a for loop to print the values of the list [3, 2, 1, 0]."
   ]
  },
  {
   "cell_type": "code",
   "execution_count": null,
   "id": "8e98c1c0-9603-409f-a44a-96c4772b3e86",
   "metadata": {},
   "outputs": [],
   "source": [
    "# Define the list\n",
    "my_list = [3, 2, 1, 0]\n",
    "\n",
    "# Iterate through the list using a for loop\n",
    "for value in my_list:\n",
    "    print(value)\n"
   ]
  },
  {
   "cell_type": "markdown",
   "id": "f8e12f40-246e-43f3-89a3-70ff93483d16",
   "metadata": {},
   "source": [
    "6.2 Assign the value 7 to the variable guess_me, and the value 1 to the variable number. Write a while loop that compares number with guess_me. Print 'too low' if number is less than guess me. If number equals guess_me, print 'found it!' and then exit the loop. If number is greater than guess_me, print 'oops' and then exit the loop. Increment number at the end of the loop."
   ]
  },
  {
   "cell_type": "code",
   "execution_count": null,
   "id": "52889246-86e7-4c01-9330-5863412cf54b",
   "metadata": {},
   "outputs": [],
   "source": [
    "# Assign initial values\n",
    "guess_me = 7\n",
    "number = 1\n",
    "\n",
    "# While loop to compare number with guess_me\n",
    "while number <= guess_me:\n",
    "    if number < guess_me:\n",
    "        print('too low')\n",
    "    elif number == guess_me:\n",
    "        print('found it!')\n",
    "        break  # Exit the loop when number equals guess_me\n",
    "    else:  # number > guess_me\n",
    "        print('oops')\n",
    "        break  # Exit the loop when number exceeds guess_me\n",
    "    \n",
    "    number += 1  # Increment number at the end of each iteration\n"
   ]
  },
  {
   "cell_type": "markdown",
   "id": "15483f16-5a9c-4a0c-a447-0f08b55eadc8",
   "metadata": {},
   "source": [
    "6.3 Assign the value 5 to the variable guess_me. Use a for loop to iterate a variable called number over range(10). If number is less than guess_me, print 'too low'. If it equals guess_me, print found it! and then break out of the for loop. If number is greater than guess_me, print 'oops' and then exit the loop."
   ]
  },
  {
   "cell_type": "code",
   "execution_count": null,
   "id": "05aabf9a-6f90-47a7-b59d-604e59034fb5",
   "metadata": {},
   "outputs": [],
   "source": [
    "# Assign initial values\n",
    "guess_me = 5\n",
    "\n",
    "# Iterate over range(10) using a for loop\n",
    "for number in range(10):\n",
    "    if number < guess_me:\n",
    "        print('too low')\n",
    "    elif number == guess_me:\n",
    "        print('found it!')\n",
    "        break  # Exit the loop when number equals guess_me\n",
    "    else:  # number > guess_me\n",
    "        print('oops')\n",
    "        break  # Exit the loop when number exceeds guess_me\n"
   ]
  }
 ],
 "metadata": {
  "kernelspec": {
   "display_name": "Python 3 (ipykernel)",
   "language": "python",
   "name": "python3"
  },
  "language_info": {
   "codemirror_mode": {
    "name": "ipython",
    "version": 3
   },
   "file_extension": ".py",
   "mimetype": "text/x-python",
   "name": "python",
   "nbconvert_exporter": "python",
   "pygments_lexer": "ipython3",
   "version": "3.11.7"
  }
 },
 "nbformat": 4,
 "nbformat_minor": 5
}
